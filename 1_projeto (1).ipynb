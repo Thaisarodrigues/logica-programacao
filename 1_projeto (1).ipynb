{
  "nbformat": 4,
  "nbformat_minor": 0,
  "metadata": {
    "colab": {
      "provenance": []
    },
    "kernelspec": {
      "name": "python3",
      "display_name": "Python 3"
    },
    "language_info": {
      "name": "python"
    }
  },
  "cells": [
    {
      "cell_type": "code",
      "source": [
        "print ('Minha primeira tarefa na EBAC :)')\n",
        "\n",
        "x = 1\n",
        "print(x)"
      ],
      "metadata": {
        "id": "FAAIBW7-46IL",
        "colab": {
          "base_uri": "https://localhost:8080/"
        },
        "outputId": "a59ad46d-99b2-4aae-dbfc-9922945f3439"
      },
      "execution_count": 2,
      "outputs": [
        {
          "output_type": "stream",
          "name": "stdout",
          "text": [
            "Minha primeira tarefa na EBAC :)\n",
            "1\n"
          ]
        }
      ]
    },
    {
      "cell_type": "code",
      "source": [
        "y = 4\n",
        "soma = x + y\n",
        "print(soma)"
      ],
      "metadata": {
        "colab": {
          "base_uri": "https://localhost:8080/"
        },
        "id": "BgsHuDcW7YAK",
        "outputId": "971c68c8-7859-4af5-d655-ce33f3ea94f1"
      },
      "execution_count": 6,
      "outputs": [
        {
          "output_type": "stream",
          "name": "stdout",
          "text": [
            "5\n"
          ]
        }
      ]
    },
    {
      "cell_type": "code",
      "source": [
        "subtração = x - y\n",
        "print(subtração)"
      ],
      "metadata": {
        "colab": {
          "base_uri": "https://localhost:8080/"
        },
        "id": "GJkn-PGc7ldN",
        "outputId": "268a3dbb-8353-4cc6-f0c2-154559d160c9"
      },
      "execution_count": 7,
      "outputs": [
        {
          "output_type": "stream",
          "name": "stdout",
          "text": [
            "-3\n"
          ]
        }
      ]
    },
    {
      "cell_type": "code",
      "source": [
        "multiplicação = x * y\n",
        "print(multiplicação)"
      ],
      "metadata": {
        "colab": {
          "base_uri": "https://localhost:8080/"
        },
        "id": "AKMJi3CC7qYl",
        "outputId": "3bb3acb1-4b75-4a55-d7f4-f25d0b427a8e"
      },
      "execution_count": 8,
      "outputs": [
        {
          "output_type": "stream",
          "name": "stdout",
          "text": [
            "4\n"
          ]
        }
      ]
    },
    {
      "cell_type": "code",
      "source": [
        "potenciação = x ** y\n",
        "print(potenciação)"
      ],
      "metadata": {
        "colab": {
          "base_uri": "https://localhost:8080/"
        },
        "id": "nUXxpQ_D7x6d",
        "outputId": "4e32dd0c-6f9d-4451-b1b8-b9a9db701a45"
      },
      "execution_count": 10,
      "outputs": [
        {
          "output_type": "stream",
          "name": "stdout",
          "text": [
            "1\n"
          ]
        }
      ]
    },
    {
      "cell_type": "code",
      "source": [
        "val = 1\n",
        "while (val < 4):\n",
        "  val *=2\n",
        "else:\n",
        " print('Valor de val é' , val)"
      ],
      "metadata": {
        "colab": {
          "base_uri": "https://localhost:8080/"
        },
        "id": "4hGTUE2p76SN",
        "outputId": "a349f451-edc7-4dc1-c152-176d90abe90c"
      },
      "execution_count": 12,
      "outputs": [
        {
          "output_type": "stream",
          "name": "stdout",
          "text": [
            "Valor de val é 4\n"
          ]
        }
      ]
    },
    {
      "cell_type": "code",
      "source": [
        "x = 4\n",
        "print ('o valor de x é', x)"
      ],
      "metadata": {
        "colab": {
          "base_uri": "https://localhost:8080/"
        },
        "id": "rZVOJMuI89q9",
        "outputId": "8b36fe9c-4b6e-4803-b0ee-029f4f12b6d6"
      },
      "execution_count": 13,
      "outputs": [
        {
          "output_type": "stream",
          "name": "stdout",
          "text": [
            "o valor de x é 4\n"
          ]
        }
      ]
    },
    {
      "cell_type": "code",
      "source": [
        "print('o valor d x é' , x, 'e o dobro é' , x * 2)"
      ],
      "metadata": {
        "colab": {
          "base_uri": "https://localhost:8080/"
        },
        "id": "gr72FAWD9E2s",
        "outputId": "34a5933b-9c96-414a-aa31-0daea38fb6cd"
      },
      "execution_count": 14,
      "outputs": [
        {
          "output_type": "stream",
          "name": "stdout",
          "text": [
            "o valor d x é 4 e o dobro é 8\n"
          ]
        }
      ]
    },
    {
      "cell_type": "code",
      "source": [
        "nome = 'Thaisa'\n",
        "print('Eu', nome, 'tirei' , x, 'na prova')"
      ],
      "metadata": {
        "colab": {
          "base_uri": "https://localhost:8080/"
        },
        "id": "xoqoKGUA9KKF",
        "outputId": "4bf26002-bc4b-4954-8c65-68f2cf6d0cce"
      },
      "execution_count": 20,
      "outputs": [
        {
          "output_type": "stream",
          "name": "stdout",
          "text": [
            "Eu Thaisa tirei 4 na prova\n"
          ]
        }
      ]
    },
    {
      "cell_type": "code",
      "source": [
        "for contador in range(50):\n",
        "  print(contador)\n",
        "  if contador == 5:\n",
        "    break"
      ],
      "metadata": {
        "colab": {
          "base_uri": "https://localhost:8080/"
        },
        "id": "WiAy5XHM9Tw1",
        "outputId": "5070fe2f-809f-4a92-88cd-da0e4319252c"
      },
      "execution_count": 22,
      "outputs": [
        {
          "output_type": "stream",
          "name": "stdout",
          "text": [
            "0\n",
            "1\n",
            "2\n",
            "3\n",
            "4\n",
            "5\n"
          ]
        }
      ]
    }
  ]
}